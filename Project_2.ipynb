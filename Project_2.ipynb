{
  "cells": [
    {
      "cell_type": "markdown",
      "metadata": {
        "id": "view-in-github",
        "colab_type": "text"
      },
      "source": [
        "<a href=\"https://colab.research.google.com/github/Zishan-Shao/CSC374/blob/main/Project_2.ipynb\" target=\"_parent\"><img src=\"https://colab.research.google.com/assets/colab-badge.svg\" alt=\"Open In Colab\"/></a>"
      ]
    },
    {
      "cell_type": "markdown",
      "id": "5de7c620-690d-4a05-be34-4da3f80a4b7a",
      "metadata": {
        "id": "5de7c620-690d-4a05-be34-4da3f80a4b7a"
      },
      "source": [
        "# Project 2: Exploratory Data Analysis and Ensembles¶\n",
        "In this project, you will learn and apply exploratory data analysis to a real-life structured dataset, a key first step in practical machine learning. Then, you will apply machine learning and ensemble methods to solve classification or regression problems on this data.\n",
        "\n",
        "Due Date: March 20, 2023"
      ]
    },
    {
      "cell_type": "markdown",
      "id": "e4a67ace-2a42-4933-8231-7c744e405285",
      "metadata": {
        "id": "e4a67ace-2a42-4933-8231-7c744e405285"
      },
      "source": [
        "## The Dataset \n",
        "The government of Mexico has provided open access to a very large amount of data about human cases associated with COVID-19. There is historical data for each year since 2020. We will work with the historical data from 2021. Use this __[link](https://www.gob.mx/salud/documentos/datos-abiertos-bases-historicas-direccion-general-de-epidemiologia)__ to access their website. Then download the dataset named: \"Cierre Datos Abiertos Históricos 2021\"\n",
        "\n",
        "The dataset contains 40 columns that can be grouped as follows:\n",
        "1. Medical history\n",
        "* 14  NEUMONIA               int64 \n",
        "* 17  EMBARAZO               int64 \n",
        "* 20  DIABETES               int64 \n",
        "* 21  EPOC                   int64 (Enfermedad Pulmonar Obstructiva Crónica)\n",
        "* 22  ASMA                   int64 \n",
        "* 23  INMUSUPR               int64 \n",
        "* 24  HIPERTENSION           int64 \n",
        "* 25  OTRA_COM               int64 (Another comorbidity)\n",
        "* 26  CARDIOVASCULAR         int64 \n",
        "* 27  OBESIDAD               int64 \n",
        "* 28  RENAL_CRONICA          int64 \n",
        "* 29  TABAQUISMO             int64 \n",
        "\n",
        "\n",
        "2. Demographic\n",
        "* 2   ORIGEN                 int64 \n",
        "* 3   SECTOR                 int64 (Health service provider)\n",
        "* 4   ENTIDAD_UM             int64 (State)\n",
        "* 5   SEXO                   int64 \n",
        "* 6   ENTIDAD_NAC            int64 (Address)\n",
        "* 7   ENTIDAD_RES            int64 (Address)\n",
        "* 8   MUNICIPIO_RES          int64 (Address)\n",
        "* 15  EDAD                   int64 \n",
        "* 16  NACIONALIDAD           int64 \n",
        "* 18  HABLA_LENGUA_INDIG     int64 (Speaks indigenous language)\n",
        "* 19  INDIGENA               int64 \n",
        "* 36  MIGRANTE               int64 \n",
        "* 37  PAIS_NACIONALIDAD      object (Nationality)\n",
        "* 38  PAIS_ORIGEN            object (Country of origin)\n",
        "\n",
        "3. Hospitalization\n",
        "* 0   FECHA_ACTUALIZACION    object \n",
        "* 1   ID_REGISTRO            object\n",
        "* 9   TIPO_PACIENTE          int64 \n",
        "* 10  FECHA_INGRESO          object\n",
        "* 11  FECHA_SINTOMAS         object\n",
        "* 12  FECHA_DEF              object\n",
        "* 13  INTUBADO               int64 \n",
        "* 30  OTRO_CASO              int64 \n",
        "* 31  TOMA_MUESTRA_LAB       int64 \n",
        "* 32  RESULTADO_LAB          int64 \n",
        "* 33  TOMA_MUESTRA_ANTIGENO  int64 \n",
        "* 34  RESULTADO_ANTIGENO     int64 \n",
        "* 35  CLASIFICACION_FINAL    int64 (Diagnosis)\n",
        "* 39  UCI                    int64 \n",
        "\n",
        "CLASIFICACION_FINAL (1-7) indicates the diagnosis given to the patient. The values are:\n",
        "* 1 = Covid-19 Positive\n",
        "* 2 = Covid-19 Positive\n",
        "* 3 = SARS-CoV-2 Positive\n",
        "* 4 = Invalid\n",
        "* 5 = No lab test\n",
        "* 6 = Suspicious case\n",
        "* 7 = Covid-19 Negative\n",
        "\n",
        "The data was obtained by testing for COVID-19 10% of all the patients diagnosed with a viral respiratory illness at any of 475 hospitals and medical centers in Mexico in 2021."
      ]
    },
    {
      "cell_type": "markdown",
      "id": "2387938b-a37e-4d68-a093-b7e30449c305",
      "metadata": {
        "id": "2387938b-a37e-4d68-a093-b7e30449c305"
      },
      "source": [
        "## Exploratory Data Analysis\n",
        "What does the dataset look like? Before applying any machine learning, it's important that we get a feeling for what information is in the data, a sort of summary in terms of statistics or data visualization would be ideal. This is the role of exploratory data analysis (EDA).\n",
        "\n",
        "There are a number of websites that illustrate key processes employed in EDA. Here are a few showing specific steps and Python code:\n",
        "* __[How To Perform Exploratory Data Analysis -A Guide for Beginners](https://www.analyticsvidhya.com/blog/2021/08/how-to-perform-exploratory-data-analysis-a-guide-for-beginners/)__\n",
        "* __[Exploratory Data Analysis of Hotel booking demand — A Case Study](https://blog.devgenius.io/exploratory-data-analysis-of-hotel-booking-demand-a-case-study-4a27bff589ca)__\n",
        "* __[A Gentle Introduction to Exploratory Data Analysis](https://towardsdatascience.com/a-gentle-introduction-to-exploratory-data-analysis-f11d843b8184)__\n",
        "* __[A Full Guide to Data Preparation for Machine Learning](https://deepchecks.com/preparing-your-data-for-machine-learning-full-guide/)__\n",
        "\n",
        "<div class=\"alert alert-block alert-info\">\n",
        "<b>Task 1:</b> Your first main task in Project 2 is to learn basic techniques of EDA an apply them to our COVID-19 dataset. The key question we want to address is whether a COVID-19 diagnosis can be predicted for an individual, given specific clinical and demographic information about them.\n",
        "</div>\n",
        "\n",
        "What columns in the dataset should be considered? Which ones could be/should be ignored? What type of information do they contain? These and several other questions should be addressed in this part. **Use EDA to explore the data and describe, in a maximum of 2 pages, the questions you have addressed.** Brief and organized written insight matters more than just a bunch of plots/graphs without context.\n",
        "\n",
        " \n"
      ]
    },
    {
      "cell_type": "markdown",
      "id": "251538c6-6250-4bb7-856a-d90562583a85",
      "metadata": {
        "id": "251538c6-6250-4bb7-856a-d90562583a85"
      },
      "source": [
        "## Machine Learning for Covid-19 Prediction\n",
        "\n",
        "As previously indicated, we want to predict a CODIV-19 diagnosis for an individual, given specific clinical and demographic information about them. \n",
        "One can predict a 0/1 (no-covid/covid) classification or predict some value indicating risk (0 - 1) that can then be used with an appropriate threshold for classification. \n",
        "\n",
        "<div class=\"alert alert-block alert-info\">\n",
        "<b>Task 2:</b> Your objective here is two-fold:\n",
        "    1) explore the performance of selected supervised classification methods studied in class to solve our problem, and\n",
        "    2) explore the performance of ensemble learning methods \n",
        "</div>\n",
        " \n",
        "In a maximum of 4 pages, describe your methodology, the results obtained, and a discussion of your results. Once again, focuse on quality over quantity.\n",
        "\n",
        "How much data should be used for training and testing my selected classifiers? How to select a representative data sample for this? These and several other question need to be addressed before running classification code. Feel free to use online resources as guidance. Do not use someone else's code without properly acknowledging the source. \n",
        "\n",
        "<div class=\"alert alert-block alert-danger\">\n",
        "<b>Code:</b> The code you write for this assignment does not count towards the 6-page limit. However, you should still turn in your code as part of your report. Turn in everything in a Jupyiter notebook.\n",
        "</div>"
      ]
    },
    {
      "cell_type": "markdown",
      "id": "c24fadb7-a7ee-4fbc-9ba6-5033b7d85b27",
      "metadata": {
        "id": "c24fadb7-a7ee-4fbc-9ba6-5033b7d85b27"
      },
      "source": [
        "***\n",
        "## Some sample code for EDA is provided below"
      ]
    },
    {
      "cell_type": "code",
      "execution_count": 1,
      "id": "687b02b3-931b-497b-afc5-396d98713a3a",
      "metadata": {
        "id": "687b02b3-931b-497b-afc5-396d98713a3a"
      },
      "outputs": [],
      "source": [
        "import pandas as pd\n",
        "import numpy as np\n",
        "import matplotlib.pyplot as plt\n",
        "import seaborn as sns"
      ]
    },
    {
      "cell_type": "code",
      "execution_count": 2,
      "id": "a327e992-fad9-46a9-9353-6582905397f3",
      "metadata": {
        "id": "a327e992-fad9-46a9-9353-6582905397f3"
      },
      "outputs": [],
      "source": [
        "sns.set_style(\"whitegrid\")\n",
        "plt.style.use(\"fivethirtyeight\")"
      ]
    },
    {
      "cell_type": "code",
      "source": [
        "from google.colab import drive\n",
        "drive.mount('/content/drive')\n",
        "\n",
        "# !ls 'drive'\n",
        "\n",
        "!ls -a 'drive/MyDrive/CSC374'\n",
        "\n",
        "# Load palm data\n",
        "filename = 'drive/MyDrive/CSC374/COVID19MEXICO2021.csv'"
      ],
      "metadata": {
        "colab": {
          "base_uri": "https://localhost:8080/"
        },
        "id": "Ug8lwXWaP--Z",
        "outputId": "0fe38586-dfec-4979-caed-de43929c3145"
      },
      "id": "Ug8lwXWaP--Z",
      "execution_count": 3,
      "outputs": [
        {
          "output_type": "stream",
          "name": "stdout",
          "text": [
            "Mounted at /content/drive\n",
            " “colab-tutorial.ipynb”的副本   LinearSVMs.ipynb    Project-2.ipynb\n",
            " COVID19MEXICO2021.csv\t        Personal_data\n",
            "'Homework #1.ipynb'\t       'Project #1.ipynb'\n"
          ]
        }
      ]
    },
    {
      "cell_type": "code",
      "execution_count": 4,
      "id": "ad1b86ac-5491-4a67-bc6f-7faabe683cf4",
      "metadata": {
        "colab": {
          "base_uri": "https://localhost:8080/",
          "height": 300
        },
        "id": "ad1b86ac-5491-4a67-bc6f-7faabe683cf4",
        "outputId": "690c3fcb-c562-46d0-dcab-ab34ed046cf3"
      },
      "outputs": [
        {
          "output_type": "execute_result",
          "data": {
            "text/plain": [
              "  FECHA_ACTUALIZACION ID_REGISTRO ORIGEN SECTOR ENTIDAD_UM SEXO ENTIDAD_NAC  \\\n",
              "0          2022-08-09      z53cb3      2     12         09    2          09   \n",
              "1          2022-08-09      zze974      1      6         24    1          24   \n",
              "2          2022-08-09      zz7202      1     12         16    2          16   \n",
              "3          2022-08-09      z405fd      1     12         09    2          09   \n",
              "4          2022-08-09      z26b82      2     12         09    1          09   \n",
              "\n",
              "  ENTIDAD_RES MUNICIPIO_RES TIPO_PACIENTE  ... OTRO_CASO TOMA_MUESTRA_LAB  \\\n",
              "0          09           002             1  ...         1                2   \n",
              "1          24           035             1  ...         1                1   \n",
              "2          16           112             1  ...         1                1   \n",
              "3          09           011             1  ...         1                2   \n",
              "4          09           007             1  ...         2                2   \n",
              "\n",
              "  RESULTADO_LAB TOMA_MUESTRA_ANTIGENO RESULTADO_ANTIGENO CLASIFICACION_FINAL  \\\n",
              "0            97                     1                  2                   7   \n",
              "1             2                     2                 97                   7   \n",
              "2             2                     2                 97                   7   \n",
              "3            97                     1                  2                   7   \n",
              "4            97                     1                  2                   7   \n",
              "\n",
              "  MIGRANTE PAIS_NACIONALIDAD PAIS_ORIGEN UCI  \n",
              "0       99            México          97  97  \n",
              "1       99            México          97  97  \n",
              "2       99            México          97  97  \n",
              "3       99            México          97  97  \n",
              "4       99            México          97  97  \n",
              "\n",
              "[5 rows x 40 columns]"
            ],
            "text/html": [
              "\n",
              "  <div id=\"df-740d1fb4-6ae0-483f-bb16-e3f9845fe957\">\n",
              "    <div class=\"colab-df-container\">\n",
              "      <div>\n",
              "<style scoped>\n",
              "    .dataframe tbody tr th:only-of-type {\n",
              "        vertical-align: middle;\n",
              "    }\n",
              "\n",
              "    .dataframe tbody tr th {\n",
              "        vertical-align: top;\n",
              "    }\n",
              "\n",
              "    .dataframe thead th {\n",
              "        text-align: right;\n",
              "    }\n",
              "</style>\n",
              "<table border=\"1\" class=\"dataframe\">\n",
              "  <thead>\n",
              "    <tr style=\"text-align: right;\">\n",
              "      <th></th>\n",
              "      <th>FECHA_ACTUALIZACION</th>\n",
              "      <th>ID_REGISTRO</th>\n",
              "      <th>ORIGEN</th>\n",
              "      <th>SECTOR</th>\n",
              "      <th>ENTIDAD_UM</th>\n",
              "      <th>SEXO</th>\n",
              "      <th>ENTIDAD_NAC</th>\n",
              "      <th>ENTIDAD_RES</th>\n",
              "      <th>MUNICIPIO_RES</th>\n",
              "      <th>TIPO_PACIENTE</th>\n",
              "      <th>...</th>\n",
              "      <th>OTRO_CASO</th>\n",
              "      <th>TOMA_MUESTRA_LAB</th>\n",
              "      <th>RESULTADO_LAB</th>\n",
              "      <th>TOMA_MUESTRA_ANTIGENO</th>\n",
              "      <th>RESULTADO_ANTIGENO</th>\n",
              "      <th>CLASIFICACION_FINAL</th>\n",
              "      <th>MIGRANTE</th>\n",
              "      <th>PAIS_NACIONALIDAD</th>\n",
              "      <th>PAIS_ORIGEN</th>\n",
              "      <th>UCI</th>\n",
              "    </tr>\n",
              "  </thead>\n",
              "  <tbody>\n",
              "    <tr>\n",
              "      <th>0</th>\n",
              "      <td>2022-08-09</td>\n",
              "      <td>z53cb3</td>\n",
              "      <td>2</td>\n",
              "      <td>12</td>\n",
              "      <td>09</td>\n",
              "      <td>2</td>\n",
              "      <td>09</td>\n",
              "      <td>09</td>\n",
              "      <td>002</td>\n",
              "      <td>1</td>\n",
              "      <td>...</td>\n",
              "      <td>1</td>\n",
              "      <td>2</td>\n",
              "      <td>97</td>\n",
              "      <td>1</td>\n",
              "      <td>2</td>\n",
              "      <td>7</td>\n",
              "      <td>99</td>\n",
              "      <td>México</td>\n",
              "      <td>97</td>\n",
              "      <td>97</td>\n",
              "    </tr>\n",
              "    <tr>\n",
              "      <th>1</th>\n",
              "      <td>2022-08-09</td>\n",
              "      <td>zze974</td>\n",
              "      <td>1</td>\n",
              "      <td>6</td>\n",
              "      <td>24</td>\n",
              "      <td>1</td>\n",
              "      <td>24</td>\n",
              "      <td>24</td>\n",
              "      <td>035</td>\n",
              "      <td>1</td>\n",
              "      <td>...</td>\n",
              "      <td>1</td>\n",
              "      <td>1</td>\n",
              "      <td>2</td>\n",
              "      <td>2</td>\n",
              "      <td>97</td>\n",
              "      <td>7</td>\n",
              "      <td>99</td>\n",
              "      <td>México</td>\n",
              "      <td>97</td>\n",
              "      <td>97</td>\n",
              "    </tr>\n",
              "    <tr>\n",
              "      <th>2</th>\n",
              "      <td>2022-08-09</td>\n",
              "      <td>zz7202</td>\n",
              "      <td>1</td>\n",
              "      <td>12</td>\n",
              "      <td>16</td>\n",
              "      <td>2</td>\n",
              "      <td>16</td>\n",
              "      <td>16</td>\n",
              "      <td>112</td>\n",
              "      <td>1</td>\n",
              "      <td>...</td>\n",
              "      <td>1</td>\n",
              "      <td>1</td>\n",
              "      <td>2</td>\n",
              "      <td>2</td>\n",
              "      <td>97</td>\n",
              "      <td>7</td>\n",
              "      <td>99</td>\n",
              "      <td>México</td>\n",
              "      <td>97</td>\n",
              "      <td>97</td>\n",
              "    </tr>\n",
              "    <tr>\n",
              "      <th>3</th>\n",
              "      <td>2022-08-09</td>\n",
              "      <td>z405fd</td>\n",
              "      <td>1</td>\n",
              "      <td>12</td>\n",
              "      <td>09</td>\n",
              "      <td>2</td>\n",
              "      <td>09</td>\n",
              "      <td>09</td>\n",
              "      <td>011</td>\n",
              "      <td>1</td>\n",
              "      <td>...</td>\n",
              "      <td>1</td>\n",
              "      <td>2</td>\n",
              "      <td>97</td>\n",
              "      <td>1</td>\n",
              "      <td>2</td>\n",
              "      <td>7</td>\n",
              "      <td>99</td>\n",
              "      <td>México</td>\n",
              "      <td>97</td>\n",
              "      <td>97</td>\n",
              "    </tr>\n",
              "    <tr>\n",
              "      <th>4</th>\n",
              "      <td>2022-08-09</td>\n",
              "      <td>z26b82</td>\n",
              "      <td>2</td>\n",
              "      <td>12</td>\n",
              "      <td>09</td>\n",
              "      <td>1</td>\n",
              "      <td>09</td>\n",
              "      <td>09</td>\n",
              "      <td>007</td>\n",
              "      <td>1</td>\n",
              "      <td>...</td>\n",
              "      <td>2</td>\n",
              "      <td>2</td>\n",
              "      <td>97</td>\n",
              "      <td>1</td>\n",
              "      <td>2</td>\n",
              "      <td>7</td>\n",
              "      <td>99</td>\n",
              "      <td>México</td>\n",
              "      <td>97</td>\n",
              "      <td>97</td>\n",
              "    </tr>\n",
              "  </tbody>\n",
              "</table>\n",
              "<p>5 rows × 40 columns</p>\n",
              "</div>\n",
              "      <button class=\"colab-df-convert\" onclick=\"convertToInteractive('df-740d1fb4-6ae0-483f-bb16-e3f9845fe957')\"\n",
              "              title=\"Convert this dataframe to an interactive table.\"\n",
              "              style=\"display:none;\">\n",
              "        \n",
              "  <svg xmlns=\"http://www.w3.org/2000/svg\" height=\"24px\"viewBox=\"0 0 24 24\"\n",
              "       width=\"24px\">\n",
              "    <path d=\"M0 0h24v24H0V0z\" fill=\"none\"/>\n",
              "    <path d=\"M18.56 5.44l.94 2.06.94-2.06 2.06-.94-2.06-.94-.94-2.06-.94 2.06-2.06.94zm-11 1L8.5 8.5l.94-2.06 2.06-.94-2.06-.94L8.5 2.5l-.94 2.06-2.06.94zm10 10l.94 2.06.94-2.06 2.06-.94-2.06-.94-.94-2.06-.94 2.06-2.06.94z\"/><path d=\"M17.41 7.96l-1.37-1.37c-.4-.4-.92-.59-1.43-.59-.52 0-1.04.2-1.43.59L10.3 9.45l-7.72 7.72c-.78.78-.78 2.05 0 2.83L4 21.41c.39.39.9.59 1.41.59.51 0 1.02-.2 1.41-.59l7.78-7.78 2.81-2.81c.8-.78.8-2.07 0-2.86zM5.41 20L4 18.59l7.72-7.72 1.47 1.35L5.41 20z\"/>\n",
              "  </svg>\n",
              "      </button>\n",
              "      \n",
              "  <style>\n",
              "    .colab-df-container {\n",
              "      display:flex;\n",
              "      flex-wrap:wrap;\n",
              "      gap: 12px;\n",
              "    }\n",
              "\n",
              "    .colab-df-convert {\n",
              "      background-color: #E8F0FE;\n",
              "      border: none;\n",
              "      border-radius: 50%;\n",
              "      cursor: pointer;\n",
              "      display: none;\n",
              "      fill: #1967D2;\n",
              "      height: 32px;\n",
              "      padding: 0 0 0 0;\n",
              "      width: 32px;\n",
              "    }\n",
              "\n",
              "    .colab-df-convert:hover {\n",
              "      background-color: #E2EBFA;\n",
              "      box-shadow: 0px 1px 2px rgba(60, 64, 67, 0.3), 0px 1px 3px 1px rgba(60, 64, 67, 0.15);\n",
              "      fill: #174EA6;\n",
              "    }\n",
              "\n",
              "    [theme=dark] .colab-df-convert {\n",
              "      background-color: #3B4455;\n",
              "      fill: #D2E3FC;\n",
              "    }\n",
              "\n",
              "    [theme=dark] .colab-df-convert:hover {\n",
              "      background-color: #434B5C;\n",
              "      box-shadow: 0px 1px 3px 1px rgba(0, 0, 0, 0.15);\n",
              "      filter: drop-shadow(0px 1px 2px rgba(0, 0, 0, 0.3));\n",
              "      fill: #FFFFFF;\n",
              "    }\n",
              "  </style>\n",
              "\n",
              "      <script>\n",
              "        const buttonEl =\n",
              "          document.querySelector('#df-740d1fb4-6ae0-483f-bb16-e3f9845fe957 button.colab-df-convert');\n",
              "        buttonEl.style.display =\n",
              "          google.colab.kernel.accessAllowed ? 'block' : 'none';\n",
              "\n",
              "        async function convertToInteractive(key) {\n",
              "          const element = document.querySelector('#df-740d1fb4-6ae0-483f-bb16-e3f9845fe957');\n",
              "          const dataTable =\n",
              "            await google.colab.kernel.invokeFunction('convertToInteractive',\n",
              "                                                     [key], {});\n",
              "          if (!dataTable) return;\n",
              "\n",
              "          const docLinkHtml = 'Like what you see? Visit the ' +\n",
              "            '<a target=\"_blank\" href=https://colab.research.google.com/notebooks/data_table.ipynb>data table notebook</a>'\n",
              "            + ' to learn more about interactive tables.';\n",
              "          element.innerHTML = '';\n",
              "          dataTable['output_type'] = 'display_data';\n",
              "          await google.colab.output.renderOutput(dataTable, element);\n",
              "          const docLink = document.createElement('div');\n",
              "          docLink.innerHTML = docLinkHtml;\n",
              "          element.appendChild(docLink);\n",
              "        }\n",
              "      </script>\n",
              "    </div>\n",
              "  </div>\n",
              "  "
            ]
          },
          "metadata": {},
          "execution_count": 4
        }
      ],
      "source": [
        "com_df = pd.read_csv(filename, dtype = str)\n",
        "com_df.head()"
      ]
    },
    {
      "cell_type": "code",
      "execution_count": 5,
      "id": "a11b1d82-58fb-47d3-8442-c02f76871650",
      "metadata": {
        "colab": {
          "base_uri": "https://localhost:8080/"
        },
        "id": "a11b1d82-58fb-47d3-8442-c02f76871650",
        "outputId": "4eaca302-5c1f-427c-9805-15af1611ab4b"
      },
      "outputs": [
        {
          "output_type": "stream",
          "name": "stdout",
          "text": [
            "<class 'pandas.core.frame.DataFrame'>\n",
            "RangeIndex: 8830345 entries, 0 to 8830344\n",
            "Data columns (total 40 columns):\n",
            " #   Column                 Dtype \n",
            "---  ------                 ----- \n",
            " 0   FECHA_ACTUALIZACION    object\n",
            " 1   ID_REGISTRO            object\n",
            " 2   ORIGEN                 object\n",
            " 3   SECTOR                 object\n",
            " 4   ENTIDAD_UM             object\n",
            " 5   SEXO                   object\n",
            " 6   ENTIDAD_NAC            object\n",
            " 7   ENTIDAD_RES            object\n",
            " 8   MUNICIPIO_RES          object\n",
            " 9   TIPO_PACIENTE          object\n",
            " 10  FECHA_INGRESO          object\n",
            " 11  FECHA_SINTOMAS         object\n",
            " 12  FECHA_DEF              object\n",
            " 13  INTUBADO               object\n",
            " 14  NEUMONIA               object\n",
            " 15  EDAD                   object\n",
            " 16  NACIONALIDAD           object\n",
            " 17  EMBARAZO               object\n",
            " 18  HABLA_LENGUA_INDIG     object\n",
            " 19  INDIGENA               object\n",
            " 20  DIABETES               object\n",
            " 21  EPOC                   object\n",
            " 22  ASMA                   object\n",
            " 23  INMUSUPR               object\n",
            " 24  HIPERTENSION           object\n",
            " 25  OTRA_COM               object\n",
            " 26  CARDIOVASCULAR         object\n",
            " 27  OBESIDAD               object\n",
            " 28  RENAL_CRONICA          object\n",
            " 29  TABAQUISMO             object\n",
            " 30  OTRO_CASO              object\n",
            " 31  TOMA_MUESTRA_LAB       object\n",
            " 32  RESULTADO_LAB          object\n",
            " 33  TOMA_MUESTRA_ANTIGENO  object\n",
            " 34  RESULTADO_ANTIGENO     object\n",
            " 35  CLASIFICACION_FINAL    object\n",
            " 36  MIGRANTE               object\n",
            " 37  PAIS_NACIONALIDAD      object\n",
            " 38  PAIS_ORIGEN            object\n",
            " 39  UCI                    object\n",
            "dtypes: object(40)\n",
            "memory usage: 2.6+ GB\n"
          ]
        }
      ],
      "source": [
        "com_df.info()"
      ]
    },
    {
      "cell_type": "code",
      "execution_count": 6,
      "id": "83c8fccc-17e6-4717-9b42-6e6d583423a4",
      "metadata": {
        "colab": {
          "base_uri": "https://localhost:8080/",
          "height": 268
        },
        "id": "83c8fccc-17e6-4717-9b42-6e6d583423a4",
        "outputId": "678c8ac8-5f06-458f-c8f4-c57e194dc173"
      },
      "outputs": [
        {
          "output_type": "execute_result",
          "data": {
            "text/plain": [
              "       FECHA_ACTUALIZACION ID_REGISTRO   ORIGEN   SECTOR ENTIDAD_UM     SEXO  \\\n",
              "count              8830345     8830345  8830345  8830345    8830345  8830345   \n",
              "unique                   1     8830345        2       15         32        2   \n",
              "top             2022-08-09      z53cb3        2       12         09        1   \n",
              "freq               8830345           1  7013750  5013213    3463344  4684334   \n",
              "\n",
              "       ENTIDAD_NAC ENTIDAD_RES MUNICIPIO_RES TIPO_PACIENTE  ... OTRO_CASO  \\\n",
              "count      8830345     8830345       8830345       8830345  ...   8830345   \n",
              "unique          33          32           562             2  ...         3   \n",
              "top             09          09           007             1  ...         2   \n",
              "freq       2878442     3023394        685479       8264169  ...   5877111   \n",
              "\n",
              "       TOMA_MUESTRA_LAB RESULTADO_LAB TOMA_MUESTRA_ANTIGENO  \\\n",
              "count           8830345       8830345               8830345   \n",
              "unique                2             4                     2   \n",
              "top                   2            97                     1   \n",
              "freq            6739796       6739796               7144743   \n",
              "\n",
              "       RESULTADO_ANTIGENO CLASIFICACION_FINAL MIGRANTE PAIS_NACIONALIDAD  \\\n",
              "count             8830345             8830345  8830345           8830345   \n",
              "unique                  3                   7        3               172   \n",
              "top                     2                   7       99            México   \n",
              "freq              5476579             6054994  8767533           8762132   \n",
              "\n",
              "       PAIS_ORIGEN      UCI  \n",
              "count      8830345  8830345  \n",
              "unique         125        4  \n",
              "top             97       97  \n",
              "freq       8818031  8264169  \n",
              "\n",
              "[4 rows x 40 columns]"
            ],
            "text/html": [
              "\n",
              "  <div id=\"df-b94e5e1f-2ce1-4a02-8bb3-5668789db643\">\n",
              "    <div class=\"colab-df-container\">\n",
              "      <div>\n",
              "<style scoped>\n",
              "    .dataframe tbody tr th:only-of-type {\n",
              "        vertical-align: middle;\n",
              "    }\n",
              "\n",
              "    .dataframe tbody tr th {\n",
              "        vertical-align: top;\n",
              "    }\n",
              "\n",
              "    .dataframe thead th {\n",
              "        text-align: right;\n",
              "    }\n",
              "</style>\n",
              "<table border=\"1\" class=\"dataframe\">\n",
              "  <thead>\n",
              "    <tr style=\"text-align: right;\">\n",
              "      <th></th>\n",
              "      <th>FECHA_ACTUALIZACION</th>\n",
              "      <th>ID_REGISTRO</th>\n",
              "      <th>ORIGEN</th>\n",
              "      <th>SECTOR</th>\n",
              "      <th>ENTIDAD_UM</th>\n",
              "      <th>SEXO</th>\n",
              "      <th>ENTIDAD_NAC</th>\n",
              "      <th>ENTIDAD_RES</th>\n",
              "      <th>MUNICIPIO_RES</th>\n",
              "      <th>TIPO_PACIENTE</th>\n",
              "      <th>...</th>\n",
              "      <th>OTRO_CASO</th>\n",
              "      <th>TOMA_MUESTRA_LAB</th>\n",
              "      <th>RESULTADO_LAB</th>\n",
              "      <th>TOMA_MUESTRA_ANTIGENO</th>\n",
              "      <th>RESULTADO_ANTIGENO</th>\n",
              "      <th>CLASIFICACION_FINAL</th>\n",
              "      <th>MIGRANTE</th>\n",
              "      <th>PAIS_NACIONALIDAD</th>\n",
              "      <th>PAIS_ORIGEN</th>\n",
              "      <th>UCI</th>\n",
              "    </tr>\n",
              "  </thead>\n",
              "  <tbody>\n",
              "    <tr>\n",
              "      <th>count</th>\n",
              "      <td>8830345</td>\n",
              "      <td>8830345</td>\n",
              "      <td>8830345</td>\n",
              "      <td>8830345</td>\n",
              "      <td>8830345</td>\n",
              "      <td>8830345</td>\n",
              "      <td>8830345</td>\n",
              "      <td>8830345</td>\n",
              "      <td>8830345</td>\n",
              "      <td>8830345</td>\n",
              "      <td>...</td>\n",
              "      <td>8830345</td>\n",
              "      <td>8830345</td>\n",
              "      <td>8830345</td>\n",
              "      <td>8830345</td>\n",
              "      <td>8830345</td>\n",
              "      <td>8830345</td>\n",
              "      <td>8830345</td>\n",
              "      <td>8830345</td>\n",
              "      <td>8830345</td>\n",
              "      <td>8830345</td>\n",
              "    </tr>\n",
              "    <tr>\n",
              "      <th>unique</th>\n",
              "      <td>1</td>\n",
              "      <td>8830345</td>\n",
              "      <td>2</td>\n",
              "      <td>15</td>\n",
              "      <td>32</td>\n",
              "      <td>2</td>\n",
              "      <td>33</td>\n",
              "      <td>32</td>\n",
              "      <td>562</td>\n",
              "      <td>2</td>\n",
              "      <td>...</td>\n",
              "      <td>3</td>\n",
              "      <td>2</td>\n",
              "      <td>4</td>\n",
              "      <td>2</td>\n",
              "      <td>3</td>\n",
              "      <td>7</td>\n",
              "      <td>3</td>\n",
              "      <td>172</td>\n",
              "      <td>125</td>\n",
              "      <td>4</td>\n",
              "    </tr>\n",
              "    <tr>\n",
              "      <th>top</th>\n",
              "      <td>2022-08-09</td>\n",
              "      <td>z53cb3</td>\n",
              "      <td>2</td>\n",
              "      <td>12</td>\n",
              "      <td>09</td>\n",
              "      <td>1</td>\n",
              "      <td>09</td>\n",
              "      <td>09</td>\n",
              "      <td>007</td>\n",
              "      <td>1</td>\n",
              "      <td>...</td>\n",
              "      <td>2</td>\n",
              "      <td>2</td>\n",
              "      <td>97</td>\n",
              "      <td>1</td>\n",
              "      <td>2</td>\n",
              "      <td>7</td>\n",
              "      <td>99</td>\n",
              "      <td>México</td>\n",
              "      <td>97</td>\n",
              "      <td>97</td>\n",
              "    </tr>\n",
              "    <tr>\n",
              "      <th>freq</th>\n",
              "      <td>8830345</td>\n",
              "      <td>1</td>\n",
              "      <td>7013750</td>\n",
              "      <td>5013213</td>\n",
              "      <td>3463344</td>\n",
              "      <td>4684334</td>\n",
              "      <td>2878442</td>\n",
              "      <td>3023394</td>\n",
              "      <td>685479</td>\n",
              "      <td>8264169</td>\n",
              "      <td>...</td>\n",
              "      <td>5877111</td>\n",
              "      <td>6739796</td>\n",
              "      <td>6739796</td>\n",
              "      <td>7144743</td>\n",
              "      <td>5476579</td>\n",
              "      <td>6054994</td>\n",
              "      <td>8767533</td>\n",
              "      <td>8762132</td>\n",
              "      <td>8818031</td>\n",
              "      <td>8264169</td>\n",
              "    </tr>\n",
              "  </tbody>\n",
              "</table>\n",
              "<p>4 rows × 40 columns</p>\n",
              "</div>\n",
              "      <button class=\"colab-df-convert\" onclick=\"convertToInteractive('df-b94e5e1f-2ce1-4a02-8bb3-5668789db643')\"\n",
              "              title=\"Convert this dataframe to an interactive table.\"\n",
              "              style=\"display:none;\">\n",
              "        \n",
              "  <svg xmlns=\"http://www.w3.org/2000/svg\" height=\"24px\"viewBox=\"0 0 24 24\"\n",
              "       width=\"24px\">\n",
              "    <path d=\"M0 0h24v24H0V0z\" fill=\"none\"/>\n",
              "    <path d=\"M18.56 5.44l.94 2.06.94-2.06 2.06-.94-2.06-.94-.94-2.06-.94 2.06-2.06.94zm-11 1L8.5 8.5l.94-2.06 2.06-.94-2.06-.94L8.5 2.5l-.94 2.06-2.06.94zm10 10l.94 2.06.94-2.06 2.06-.94-2.06-.94-.94-2.06-.94 2.06-2.06.94z\"/><path d=\"M17.41 7.96l-1.37-1.37c-.4-.4-.92-.59-1.43-.59-.52 0-1.04.2-1.43.59L10.3 9.45l-7.72 7.72c-.78.78-.78 2.05 0 2.83L4 21.41c.39.39.9.59 1.41.59.51 0 1.02-.2 1.41-.59l7.78-7.78 2.81-2.81c.8-.78.8-2.07 0-2.86zM5.41 20L4 18.59l7.72-7.72 1.47 1.35L5.41 20z\"/>\n",
              "  </svg>\n",
              "      </button>\n",
              "      \n",
              "  <style>\n",
              "    .colab-df-container {\n",
              "      display:flex;\n",
              "      flex-wrap:wrap;\n",
              "      gap: 12px;\n",
              "    }\n",
              "\n",
              "    .colab-df-convert {\n",
              "      background-color: #E8F0FE;\n",
              "      border: none;\n",
              "      border-radius: 50%;\n",
              "      cursor: pointer;\n",
              "      display: none;\n",
              "      fill: #1967D2;\n",
              "      height: 32px;\n",
              "      padding: 0 0 0 0;\n",
              "      width: 32px;\n",
              "    }\n",
              "\n",
              "    .colab-df-convert:hover {\n",
              "      background-color: #E2EBFA;\n",
              "      box-shadow: 0px 1px 2px rgba(60, 64, 67, 0.3), 0px 1px 3px 1px rgba(60, 64, 67, 0.15);\n",
              "      fill: #174EA6;\n",
              "    }\n",
              "\n",
              "    [theme=dark] .colab-df-convert {\n",
              "      background-color: #3B4455;\n",
              "      fill: #D2E3FC;\n",
              "    }\n",
              "\n",
              "    [theme=dark] .colab-df-convert:hover {\n",
              "      background-color: #434B5C;\n",
              "      box-shadow: 0px 1px 3px 1px rgba(0, 0, 0, 0.15);\n",
              "      filter: drop-shadow(0px 1px 2px rgba(0, 0, 0, 0.3));\n",
              "      fill: #FFFFFF;\n",
              "    }\n",
              "  </style>\n",
              "\n",
              "      <script>\n",
              "        const buttonEl =\n",
              "          document.querySelector('#df-b94e5e1f-2ce1-4a02-8bb3-5668789db643 button.colab-df-convert');\n",
              "        buttonEl.style.display =\n",
              "          google.colab.kernel.accessAllowed ? 'block' : 'none';\n",
              "\n",
              "        async function convertToInteractive(key) {\n",
              "          const element = document.querySelector('#df-b94e5e1f-2ce1-4a02-8bb3-5668789db643');\n",
              "          const dataTable =\n",
              "            await google.colab.kernel.invokeFunction('convertToInteractive',\n",
              "                                                     [key], {});\n",
              "          if (!dataTable) return;\n",
              "\n",
              "          const docLinkHtml = 'Like what you see? Visit the ' +\n",
              "            '<a target=\"_blank\" href=https://colab.research.google.com/notebooks/data_table.ipynb>data table notebook</a>'\n",
              "            + ' to learn more about interactive tables.';\n",
              "          element.innerHTML = '';\n",
              "          dataTable['output_type'] = 'display_data';\n",
              "          await google.colab.output.renderOutput(dataTable, element);\n",
              "          const docLink = document.createElement('div');\n",
              "          docLink.innerHTML = docLinkHtml;\n",
              "          element.appendChild(docLink);\n",
              "        }\n",
              "      </script>\n",
              "    </div>\n",
              "  </div>\n",
              "  "
            ]
          },
          "metadata": {},
          "execution_count": 6
        }
      ],
      "source": [
        "com_df.describe()"
      ]
    },
    {
      "cell_type": "code",
      "execution_count": 7,
      "id": "76e0cd9e-a3b4-4ea2-93d9-8e14e1e469a1",
      "metadata": {
        "colab": {
          "base_uri": "https://localhost:8080/"
        },
        "id": "76e0cd9e-a3b4-4ea2-93d9-8e14e1e469a1",
        "outputId": "605bd9c0-3726-44f4-d91b-d0b60e39304f"
      },
      "outputs": [
        {
          "output_type": "execute_result",
          "data": {
            "text/plain": [
              "Index(['FECHA_ACTUALIZACION', 'ID_REGISTRO', 'ORIGEN', 'SECTOR', 'ENTIDAD_UM',\n",
              "       'SEXO', 'ENTIDAD_NAC', 'ENTIDAD_RES', 'MUNICIPIO_RES', 'TIPO_PACIENTE',\n",
              "       'FECHA_INGRESO', 'FECHA_SINTOMAS', 'FECHA_DEF', 'INTUBADO', 'NEUMONIA',\n",
              "       'EDAD', 'NACIONALIDAD', 'EMBARAZO', 'HABLA_LENGUA_INDIG', 'INDIGENA',\n",
              "       'DIABETES', 'EPOC', 'ASMA', 'INMUSUPR', 'HIPERTENSION', 'OTRA_COM',\n",
              "       'CARDIOVASCULAR', 'OBESIDAD', 'RENAL_CRONICA', 'TABAQUISMO',\n",
              "       'OTRO_CASO', 'TOMA_MUESTRA_LAB', 'RESULTADO_LAB',\n",
              "       'TOMA_MUESTRA_ANTIGENO', 'RESULTADO_ANTIGENO', 'CLASIFICACION_FINAL',\n",
              "       'MIGRANTE', 'PAIS_NACIONALIDAD', 'PAIS_ORIGEN', 'UCI'],\n",
              "      dtype='object')"
            ]
          },
          "metadata": {},
          "execution_count": 7
        }
      ],
      "source": [
        "com_df.columns"
      ]
    },
    {
      "cell_type": "code",
      "execution_count": 8,
      "id": "3d38f821-1793-48f0-bac0-5a4de9341194",
      "metadata": {
        "id": "3d38f821-1793-48f0-bac0-5a4de9341194"
      },
      "outputs": [],
      "source": [
        "idx=com_df['CLASIFICACION_FINAL'].notnull() "
      ]
    },
    {
      "cell_type": "code",
      "execution_count": 9,
      "id": "d06589ad-247c-43f0-a759-62d00d3afff4",
      "metadata": {
        "tags": [],
        "colab": {
          "base_uri": "https://localhost:8080/"
        },
        "id": "d06589ad-247c-43f0-a759-62d00d3afff4",
        "outputId": "58e027c1-9c3b-4d8c-a00e-6a6b16fc062f"
      },
      "outputs": [
        {
          "output_type": "stream",
          "name": "stdout",
          "text": [
            "Dataset size: (8830345, 40)\n",
            "Non-null rows: 8830345\n"
          ]
        }
      ],
      "source": [
        "print(f'Dataset size: {com_df.shape}')\n",
        "print(f'Non-null rows: {idx.notnull().sum()}')"
      ]
    },
    {
      "cell_type": "code",
      "execution_count": 10,
      "id": "3c10bed6-0ded-4555-ae1c-62a2ff87ca93",
      "metadata": {
        "colab": {
          "base_uri": "https://localhost:8080/"
        },
        "id": "3c10bed6-0ded-4555-ae1c-62a2ff87ca93",
        "outputId": "9ee16378-2888-42bc-8247-6861a9fc2b03"
      },
      "outputs": [
        {
          "output_type": "execute_result",
          "data": {
            "text/plain": [
              "0          7\n",
              "1          7\n",
              "2          7\n",
              "3          7\n",
              "4          7\n",
              "          ..\n",
              "8830340    7\n",
              "8830341    7\n",
              "8830342    7\n",
              "8830343    7\n",
              "8830344    7\n",
              "Name: CLASIFICACION_FINAL, Length: 8830345, dtype: object"
            ]
          },
          "metadata": {},
          "execution_count": 10
        }
      ],
      "source": [
        "com_df['CLASIFICACION_FINAL']"
      ]
    },
    {
      "cell_type": "code",
      "execution_count": 11,
      "id": "b166f446-4bc7-4a81-91d2-ccbb98325a3f",
      "metadata": {
        "id": "b166f446-4bc7-4a81-91d2-ccbb98325a3f"
      },
      "outputs": [],
      "source": [
        "categorical_val = []\n",
        "continous_val = []\n",
        "for column in com_df.columns:\n",
        "    # print('==============================')\n",
        "    # print(f\"{column} : {df[column].unique()}\")\n",
        "    if len(com_df[column].unique()) <= 10:\n",
        "        categorical_val.append(column)\n",
        "    else:\n",
        "        continous_val.append(column)"
      ]
    },
    {
      "cell_type": "code",
      "execution_count": 12,
      "id": "a99e0234-3415-47a0-8e26-43778087830f",
      "metadata": {
        "colab": {
          "base_uri": "https://localhost:8080/"
        },
        "id": "a99e0234-3415-47a0-8e26-43778087830f",
        "outputId": "270b32be-463a-44a1-a0a9-7ca27c242543"
      },
      "outputs": [
        {
          "output_type": "stream",
          "name": "stdout",
          "text": [
            "Categorical features:\n",
            "['FECHA_ACTUALIZACION', 'ORIGEN', 'SEXO', 'TIPO_PACIENTE', 'INTUBADO', 'NEUMONIA', 'NACIONALIDAD', 'EMBARAZO', 'HABLA_LENGUA_INDIG', 'INDIGENA', 'DIABETES', 'EPOC', 'ASMA', 'INMUSUPR', 'HIPERTENSION', 'OTRA_COM', 'CARDIOVASCULAR', 'OBESIDAD', 'RENAL_CRONICA', 'TABAQUISMO', 'OTRO_CASO', 'TOMA_MUESTRA_LAB', 'RESULTADO_LAB', 'TOMA_MUESTRA_ANTIGENO', 'RESULTADO_ANTIGENO', 'CLASIFICACION_FINAL', 'MIGRANTE', 'UCI']\n",
            "Continuous features:\n",
            "['ID_REGISTRO', 'SECTOR', 'ENTIDAD_UM', 'ENTIDAD_NAC', 'ENTIDAD_RES', 'MUNICIPIO_RES', 'FECHA_INGRESO', 'FECHA_SINTOMAS', 'FECHA_DEF', 'EDAD', 'PAIS_NACIONALIDAD', 'PAIS_ORIGEN']\n"
          ]
        }
      ],
      "source": [
        "print(\"Categorical features:\")\n",
        "print(categorical_val)\n",
        "print('Continuous features:')\n",
        "print(continous_val)"
      ]
    },
    {
      "cell_type": "code",
      "execution_count": 13,
      "id": "c3b0e61c-89a9-406a-a02b-81498fda0a8d",
      "metadata": {
        "id": "c3b0e61c-89a9-406a-a02b-81498fda0a8d"
      },
      "outputs": [],
      "source": [
        "feature_columns = com_df.columns.to_list()"
      ]
    },
    {
      "cell_type": "code",
      "execution_count": 14,
      "id": "4a148982-cb5b-4589-9387-ff3384b382c2",
      "metadata": {
        "colab": {
          "base_uri": "https://localhost:8080/"
        },
        "id": "4a148982-cb5b-4589-9387-ff3384b382c2",
        "outputId": "05f33ab5-cbe7-4e54-88bd-c04a65448c7d"
      },
      "outputs": [
        {
          "output_type": "stream",
          "name": "stdout",
          "text": [
            "============================================\n",
            "FECHA_ACTUALIZACION ==> Missing zeros : 0\n",
            "============================================\n",
            "ID_REGISTRO ==> Missing zeros : 0\n",
            "============================================\n",
            "ORIGEN ==> Missing zeros : 0\n",
            "============================================\n",
            "SECTOR ==> Missing zeros : 0\n",
            "============================================\n",
            "ENTIDAD_UM ==> Missing zeros : 0\n",
            "============================================\n",
            "SEXO ==> Missing zeros : 0\n",
            "============================================\n",
            "ENTIDAD_NAC ==> Missing zeros : 0\n",
            "============================================\n",
            "ENTIDAD_RES ==> Missing zeros : 0\n",
            "============================================\n",
            "MUNICIPIO_RES ==> Missing zeros : 0\n",
            "============================================\n",
            "TIPO_PACIENTE ==> Missing zeros : 0\n",
            "============================================\n",
            "FECHA_INGRESO ==> Missing zeros : 0\n",
            "============================================\n",
            "FECHA_SINTOMAS ==> Missing zeros : 0\n",
            "============================================\n",
            "FECHA_DEF ==> Missing zeros : 0\n",
            "============================================\n",
            "INTUBADO ==> Missing zeros : 0\n",
            "============================================\n",
            "NEUMONIA ==> Missing zeros : 0\n",
            "============================================\n",
            "EDAD ==> Missing zeros : 0\n",
            "============================================\n",
            "NACIONALIDAD ==> Missing zeros : 0\n",
            "============================================\n",
            "EMBARAZO ==> Missing zeros : 0\n",
            "============================================\n",
            "HABLA_LENGUA_INDIG ==> Missing zeros : 0\n",
            "============================================\n",
            "INDIGENA ==> Missing zeros : 0\n",
            "============================================\n",
            "DIABETES ==> Missing zeros : 0\n",
            "============================================\n",
            "EPOC ==> Missing zeros : 0\n",
            "============================================\n",
            "ASMA ==> Missing zeros : 0\n",
            "============================================\n",
            "INMUSUPR ==> Missing zeros : 0\n",
            "============================================\n",
            "HIPERTENSION ==> Missing zeros : 0\n",
            "============================================\n",
            "OTRA_COM ==> Missing zeros : 0\n",
            "============================================\n",
            "CARDIOVASCULAR ==> Missing zeros : 0\n",
            "============================================\n",
            "OBESIDAD ==> Missing zeros : 0\n",
            "============================================\n",
            "RENAL_CRONICA ==> Missing zeros : 0\n",
            "============================================\n",
            "TABAQUISMO ==> Missing zeros : 0\n",
            "============================================\n",
            "OTRO_CASO ==> Missing zeros : 0\n",
            "============================================\n",
            "TOMA_MUESTRA_LAB ==> Missing zeros : 0\n",
            "============================================\n",
            "RESULTADO_LAB ==> Missing zeros : 0\n",
            "============================================\n",
            "TOMA_MUESTRA_ANTIGENO ==> Missing zeros : 0\n",
            "============================================\n",
            "RESULTADO_ANTIGENO ==> Missing zeros : 0\n",
            "============================================\n",
            "CLASIFICACION_FINAL ==> Missing zeros : 0\n",
            "============================================\n",
            "MIGRANTE ==> Missing zeros : 0\n",
            "============================================\n",
            "PAIS_NACIONALIDAD ==> Missing zeros : 0\n",
            "============================================\n",
            "PAIS_ORIGEN ==> Missing zeros : 0\n",
            "============================================\n",
            "UCI ==> Missing zeros : 0\n"
          ]
        }
      ],
      "source": [
        "for column in feature_columns:\n",
        "    print(\"============================================\")\n",
        "    print(f\"{column} ==> Missing zeros : {len(com_df.loc[com_df[column] == 0])}\")"
      ]
    },
    {
      "cell_type": "markdown",
      "source": [
        "# Project 2: Mexico Covid Data Analysis with Machine Learning Methods"
      ],
      "metadata": {
        "id": "gHGiEMcSQ0L8"
      },
      "id": "gHGiEMcSQ0L8"
    },
    {
      "cell_type": "markdown",
      "source": [
        "## Introduction\n",
        "\n"
      ],
      "metadata": {
        "id": "8B8OlKw7Q8Cz"
      },
      "id": "8B8OlKw7Q8Cz"
    },
    {
      "cell_type": "markdown",
      "source": [
        "## Exploratory Data Analysis (EDA)"
      ],
      "metadata": {
        "id": "YOvQ_6xLRAe6"
      },
      "id": "YOvQ_6xLRAe6"
    },
    {
      "cell_type": "code",
      "execution_count": 14,
      "id": "99eac68b-227b-4c32-8b49-847299996681",
      "metadata": {
        "id": "99eac68b-227b-4c32-8b49-847299996681"
      },
      "outputs": [],
      "source": []
    },
    {
      "cell_type": "markdown",
      "source": [
        "## Model Building (Part 1): supervised classification methods"
      ],
      "metadata": {
        "id": "8ehfRwNDRHWy"
      },
      "id": "8ehfRwNDRHWy"
    },
    {
      "cell_type": "markdown",
      "source": [
        "## Model Building (Part 2): ensembled methods"
      ],
      "metadata": {
        "id": "wA9ZfK9uRZuh"
      },
      "id": "wA9ZfK9uRZuh"
    },
    {
      "cell_type": "markdown",
      "source": [
        "## Evaluation & Model Selection"
      ],
      "metadata": {
        "id": "YUIZkps6Rhiy"
      },
      "id": "YUIZkps6Rhiy"
    },
    {
      "cell_type": "markdown",
      "source": [
        "## Discussiion"
      ],
      "metadata": {
        "id": "yLrrmn41RmNf"
      },
      "id": "yLrrmn41RmNf"
    }
  ],
  "metadata": {
    "kernelspec": {
      "display_name": "Python 3",
      "language": "python",
      "name": "python3"
    },
    "language_info": {
      "codemirror_mode": {
        "name": "ipython",
        "version": 3
      },
      "file_extension": ".py",
      "mimetype": "text/x-python",
      "name": "python",
      "nbconvert_exporter": "python",
      "pygments_lexer": "ipython3",
      "version": "3.9.12"
    },
    "colab": {
      "provenance": [],
      "include_colab_link": true
    }
  },
  "nbformat": 4,
  "nbformat_minor": 5
}